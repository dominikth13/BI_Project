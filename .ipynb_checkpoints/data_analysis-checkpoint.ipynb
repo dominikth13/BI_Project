{
 "cells": [
  {
   "cell_type": "markdown",
   "id": "f902caba",
   "metadata": {},
   "source": [
    "First, we want to read the data set and load it into an data structure, where we can work with it."
   ]
  },
  {
   "cell_type": "code",
   "execution_count": null,
   "id": "402838d2",
   "metadata": {},
   "outputs": [],
   "source": [
    "import csv\n",
    "\n",
    "class CSVEntry:\n",
    "    def __init__(self, date_reported, ):\n",
    "        self.date_reported = date_reported\n",
    "\n",
    "\n",
    "with open('data_set.csv', newline='') as csvfile:\n",
    "    spamreader = csv.reader(csvfile, delimiter=' ', quotechar='|')\n",
    "    for row in spamreader:\n",
    "        print(', '.join(row))"
   ]
  }
 ],
 "metadata": {
  "kernelspec": {
   "display_name": "Python 3 (ipykernel)",
   "language": "python",
   "name": "python3"
  },
  "language_info": {
   "codemirror_mode": {
    "name": "ipython",
    "version": 3
   },
   "file_extension": ".py",
   "mimetype": "text/x-python",
   "name": "python",
   "nbconvert_exporter": "python",
   "pygments_lexer": "ipython3",
   "version": "3.10.9"
  }
 },
 "nbformat": 4,
 "nbformat_minor": 5
}
